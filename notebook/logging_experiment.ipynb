{
 "cells": [
  {
   "cell_type": "code",
   "execution_count": 2,
   "id": "3ea5050a",
   "metadata": {},
   "outputs": [
    {
     "name": "stdout",
     "output_type": "stream",
     "text": [
      "ok\n"
     ]
    }
   ],
   "source": [
    "print(\"ok\")"
   ]
  },
  {
   "cell_type": "code",
   "execution_count": 3,
   "id": "ecf9d358",
   "metadata": {},
   "outputs": [],
   "source": [
    "import logging\n",
    "import os\n",
    "from datetime import datetime"
   ]
  },
  {
   "cell_type": "code",
   "execution_count": 4,
   "id": "6262b4c8",
   "metadata": {},
   "outputs": [],
   "source": [
    "logs_dir = os.path.join(os.getcwd(),\"logs\")"
   ]
  },
  {
   "cell_type": "code",
   "execution_count": 5,
   "id": "38f1e178",
   "metadata": {},
   "outputs": [],
   "source": [
    "os.makedirs(logs_dir,exist_ok = True)   "
   ]
  },
  {
   "cell_type": "code",
   "execution_count": 6,
   "id": "699764bb",
   "metadata": {},
   "outputs": [],
   "source": [
    "#name of the log file will be current date and time\n",
    "LOG_FILE = f\"{datetime.now().strftime('%d_%m_%Y_%H_%M_%S')}.log\""
   ]
  },
  {
   "cell_type": "code",
   "execution_count": 7,
   "id": "d48e7ad0",
   "metadata": {},
   "outputs": [
    {
     "data": {
      "text/plain": [
       "'07_08_2025_21_00_56.log'"
      ]
     },
     "execution_count": 7,
     "metadata": {},
     "output_type": "execute_result"
    }
   ],
   "source": [
    "LOG_FILE"
   ]
  },
  {
   "cell_type": "code",
   "execution_count": 8,
   "id": "8a587b4b",
   "metadata": {},
   "outputs": [],
   "source": [
    "LOG_FILE_PATH = os.path.join(logs_dir,LOG_FILE)"
   ]
  },
  {
   "cell_type": "code",
   "execution_count": 9,
   "id": "945c4b4f",
   "metadata": {},
   "outputs": [],
   "source": [
    "logging.basicConfig(\n",
    "\n",
    "    filename=LOG_FILE_PATH,\n",
    "    format= \"[%(asctime)s] - %(levelname)s %(name)s (line:%(lineno)d)- %(message)s\",\n",
    "    level = logging.INFO\n",
    ")      "
   ]
  },
  {
   "cell_type": "code",
   "execution_count": 10,
   "id": "acbbccd5",
   "metadata": {},
   "outputs": [],
   "source": [
    "logger = logging.getLogger(\"DocumentPortal\")"
   ]
  },
  {
   "cell_type": "code",
   "execution_count": 11,
   "id": "68af9a05",
   "metadata": {},
   "outputs": [],
   "source": [
    "logger.info(\"This is an info message\")"
   ]
  },
  {
   "cell_type": "code",
   "execution_count": 12,
   "id": "3e05e062",
   "metadata": {},
   "outputs": [
    {
     "name": "stdout",
     "output_type": "stream",
     "text": [
      "2025-08-07 21:00:58 [info     ] User uploaded a file           file_name=report.pdf user_id=123\n"
     ]
    }
   ],
   "source": [
    "import structlog\n",
    "logger=  structlog.get_logger()\n",
    "logger.info(\"User uploaded a file\",user_id = 123,file_name = \"report.pdf\")"
   ]
  }
 ],
 "metadata": {
  "kernelspec": {
   "display_name": "Python 3",
   "language": "python",
   "name": "python3"
  },
  "language_info": {
   "codemirror_mode": {
    "name": "ipython",
    "version": 3
   },
   "file_extension": ".py",
   "mimetype": "text/x-python",
   "name": "python",
   "nbconvert_exporter": "python",
   "pygments_lexer": "ipython3",
   "version": "3.10.18"
  }
 },
 "nbformat": 4,
 "nbformat_minor": 5
}
