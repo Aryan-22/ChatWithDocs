{
 "cells": [
  {
   "cell_type": "code",
   "execution_count": 1,
   "id": "55dc7f4a",
   "metadata": {},
   "outputs": [
    {
     "name": "stdout",
     "output_type": "stream",
     "text": [
      "all ok\n"
     ]
    }
   ],
   "source": [
    "print(\"all ok\")"
   ]
  },
  {
   "cell_type": "code",
   "execution_count": 7,
   "id": "ea1d1f13",
   "metadata": {},
   "outputs": [],
   "source": [
    "import sys\n",
    "import traceback\n",
    "from logger.custom_logger import CustomLogger"
   ]
  },
  {
   "cell_type": "code",
   "execution_count": 11,
   "id": "88f33919",
   "metadata": {},
   "outputs": [],
   "source": [
    "logger = CustomLogger().get_logger(\"exception_experiment\")"
   ]
  },
  {
   "cell_type": "code",
   "execution_count": 12,
   "id": "03d869eb",
   "metadata": {},
   "outputs": [
    {
     "ename": "DocumentPortalException",
     "evalue": "Error in [C:\\Users\\aryan\\AppData\\Local\\Temp\\ipykernel_22620\\2702690145.py] at line [18]\nMessage: division by zero\nTraceback: Traceback (most recent call last):\n  File \"C:\\Users\\aryan\\AppData\\Local\\Temp\\ipykernel_22620\\2702690145.py\", line 18, in <module>\n    a = 1 / 0\nZeroDivisionError: division by zero\n",
     "output_type": "error",
     "traceback": [
      "\u001b[1;31m---------------------------------------------------------------------------\u001b[0m",
      "\u001b[1;31mZeroDivisionError\u001b[0m                         Traceback (most recent call last)",
      "Cell \u001b[1;32mIn[12], line 18\u001b[0m\n\u001b[0;32m     17\u001b[0m \u001b[38;5;28;01mtry\u001b[39;00m:\n\u001b[1;32m---> 18\u001b[0m     a \u001b[38;5;241m=\u001b[39m \u001b[38;5;241;43m1\u001b[39;49m\u001b[43m \u001b[49m\u001b[38;5;241;43m/\u001b[39;49m\u001b[43m \u001b[49m\u001b[38;5;241;43m0\u001b[39;49m\n\u001b[0;32m     19\u001b[0m \u001b[38;5;28;01mexcept\u001b[39;00m \u001b[38;5;167;01mException\u001b[39;00m \u001b[38;5;28;01mas\u001b[39;00m e:\n",
      "\u001b[1;31mZeroDivisionError\u001b[0m: division by zero",
      "\nDuring handling of the above exception, another exception occurred:\n",
      "\u001b[1;31mDocumentPortalException\u001b[0m                   Traceback (most recent call last)",
      "Cell \u001b[1;32mIn[12], line 22\u001b[0m\n\u001b[0;32m     20\u001b[0m app_exc \u001b[38;5;241m=\u001b[39m DocumentPortalException(e, sys)\n\u001b[0;32m     21\u001b[0m logger\u001b[38;5;241m.\u001b[39merror(app_exc)\n\u001b[1;32m---> 22\u001b[0m \u001b[38;5;28;01mraise\u001b[39;00m app_exc\n",
      "\u001b[1;31mDocumentPortalException\u001b[0m: Error in [C:\\Users\\aryan\\AppData\\Local\\Temp\\ipykernel_22620\\2702690145.py] at line [18]\nMessage: division by zero\nTraceback: Traceback (most recent call last):\n  File \"C:\\Users\\aryan\\AppData\\Local\\Temp\\ipykernel_22620\\2702690145.py\", line 18, in <module>\n    a = 1 / 0\nZeroDivisionError: division by zero\n"
     ]
    }
   ],
   "source": [
    "class DocumentPortalException(Exception):\n",
    "    def __init__(self, error_message, error_details):\n",
    "        _, _, exc_tb = error_details.exc_info()\n",
    "        self.file_name = exc_tb.tb_frame.f_code.co_filename\n",
    "        self.line_no = exc_tb.tb_lineno\n",
    "        self.error_message = str(error_message)\n",
    "        self.traceback_str = \"\".join(traceback.format_exception(*error_details.exc_info()))\n",
    "\n",
    "    def __str__(self):\n",
    "        return (\n",
    "            f\"Error in [{self.file_name}] at line [{self.line_no}]\\n\"\n",
    "            f\"Message: {self.error_message}\\n\"\n",
    "            f\"Traceback: {self.traceback_str}\"\n",
    "        )\n",
    "\n",
    "if __name__ == \"__main__\":\n",
    "    try:\n",
    "        a = 1 / 0\n",
    "    except Exception as e:\n",
    "        app_exc = DocumentPortalException(e, sys)\n",
    "        logger.error(app_exc)\n",
    "        raise app_exc\n"
   ]
  },
  {
   "cell_type": "code",
   "execution_count": null,
   "id": "4eb3b657",
   "metadata": {},
   "outputs": [],
   "source": []
  }
 ],
 "metadata": {
  "kernelspec": {
   "display_name": "Python 3",
   "language": "python",
   "name": "python3"
  },
  "language_info": {
   "codemirror_mode": {
    "name": "ipython",
    "version": 3
   },
   "file_extension": ".py",
   "mimetype": "text/x-python",
   "name": "python",
   "nbconvert_exporter": "python",
   "pygments_lexer": "ipython3",
   "version": "3.10.18"
  }
 },
 "nbformat": 4,
 "nbformat_minor": 5
}
